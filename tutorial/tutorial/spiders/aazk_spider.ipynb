{
 "cells": [
  {
   "cell_type": "code",
   "execution_count": null,
   "metadata": {},
   "outputs": [],
   "source": []
  },
  {
   "cell_type": "markdown",
   "metadata": {},
   "source": [
    "# AAZK Job Scraping\n",
    "\n",
    "### Goal: Scrape the American Association of Zoo Keepers job listings to create a dataset of posted job openings"
   ]
  },
  {
   "attachments": {},
   "cell_type": "markdown",
   "metadata": {},
   "source": [
    "Typed in ' scrapy startproject tutprial' into the Terminal in VS Studio Code. This created a 'tutorial' directory with the current working directory"
   ]
  },
  {
   "cell_type": "code",
   "execution_count": 12,
   "metadata": {},
   "outputs": [],
   "source": [
    "# sourced from https://docs.scrapy.org/en/latest/intro/tutorial.html\n",
    "from pathlib import Path\n",
    "from twisted.internet import reactor\n",
    "import scrapy \n",
    "from scrapy.crawler import CrawlerProcess\n",
    "from scrapy.crawler import CrawlerRunner\n",
    "from scrapy.utils.log import configure_logging\n",
    "import json\n",
    "import logging"
   ]
  },
  {
   "cell_type": "code",
   "execution_count": 35,
   "metadata": {},
   "outputs": [],
   "source": [
    "class AAZKjobsSpider(scrapy.Spider):\n",
    "    name = \"aazk\"\n",
    "\n",
    "    custom_settings = {\n",
    "        'BOT_NAME' : 'tutorial', \n",
    "        'SPIDER_MODULES' : '[tutorial.spiders]',\n",
    "        'ROBOTSTXT_OBEY': True,\n",
    "        'COOKIES_ENABLED': False,\n",
    "        'AUTOTHROTTLE_ENABLED': True,\n",
    "        'FEEDS': 'json',\n",
    "        'LOG_LEVEL': logging.WARNING\n",
    "        }\n",
    "\n",
    "    def start_requests(self):\n",
    "        urls = [\n",
    "            'https://aazk.org/job-listings/all/page/2/',\n",
    "            'https://aazk.org/job-listings/all/page/3/',\n",
    "        ]\n",
    "        for url in urls:\n",
    "            yield scrapy.Request(url=url, callback=self.parse)\n",
    "\n",
    "    def parse(self, response):\n",
    "        page = response.url.split(\"/\")[-2]\n",
    "        filename = 'AAZKjobs-%s.html' % page\n",
    "        with open(filename, 'wb') as f:\n",
    "            f.write(response.body)\n",
    "        self.log('Saved file %s' % filename)\n",
    "\n",
    "    '''def parse(self, response):\n",
    "        for article in response.css('article'):\n",
    "            yield {\n",
    "                'text': article.css('header.article-header::text').extract_first()\n",
    "            }'''"
   ]
  },
  {
   "cell_type": "code",
   "execution_count": 14,
   "metadata": {},
   "outputs": [
    {
     "name": "stderr",
     "output_type": "stream",
     "text": [
      "2023-02-05 16:04:29 [scrapy.utils.log] INFO: Scrapy 2.6.1 started (bot: scrapybot)\n",
      "2023-02-05 16:04:29 [scrapy.utils.log] INFO: Versions: lxml 4.8.0.0, libxml2 2.9.12, cssselect 1.1.0, parsel 1.6.0, w3lib 1.21.0, Twisted 22.2.0, Python 3.9.12 (main, Apr  4 2022, 05:22:27) [MSC v.1916 64 bit (AMD64)], pyOpenSSL 21.0.0 (OpenSSL 1.1.1n  15 Mar 2022), cryptography 3.4.8, Platform Windows-10-10.0.19044-SP0\n",
      "2023-02-05 16:04:29 [scrapy.crawler] INFO: Overridden settings:\n",
      "{'AUTOTHROTTLE_ENABLED': True,\n",
      " 'BOT_NAME': 'tutorial',\n",
      " 'COOKIES_ENABLED': False,\n",
      " 'LOG_LEVEL': 30,\n",
      " 'ROBOTSTXT_OBEY': True,\n",
      " 'SPIDER_MODULES': '[tutorial.spiders]'}\n"
     ]
    },
    {
     "ename": "ReactorAlreadyInstalledError",
     "evalue": "reactor already installed",
     "output_type": "error",
     "traceback": [
      "\u001b[1;31m---------------------------------------------------------------------------\u001b[0m",
      "\u001b[1;31mReactorAlreadyInstalledError\u001b[0m              Traceback (most recent call last)",
      "\u001b[1;32mc:\\Users\\jjbocek\\Documents\\Data_Science\\DS_projects\\tutorial\\tutorial\\spiders\\aazk_spider.ipynb Cell 7\u001b[0m in \u001b[0;36m<cell line: 3>\u001b[1;34m()\u001b[0m\n\u001b[0;32m      <a href='vscode-notebook-cell:/c%3A/Users/jjbocek/Documents/Data_Science/DS_projects/tutorial/tutorial/spiders/aazk_spider.ipynb#W5sZmlsZQ%3D%3D?line=0'>1</a>\u001b[0m process \u001b[39m=\u001b[39m CrawlerProcess()\n\u001b[0;32m      <a href='vscode-notebook-cell:/c%3A/Users/jjbocek/Documents/Data_Science/DS_projects/tutorial/tutorial/spiders/aazk_spider.ipynb#W5sZmlsZQ%3D%3D?line=2'>3</a>\u001b[0m \u001b[39mif\u001b[39;00m \u001b[39m__name__\u001b[39m \u001b[39m==\u001b[39m \u001b[39m'\u001b[39m\u001b[39m__main__\u001b[39m\u001b[39m'\u001b[39m:\n\u001b[1;32m----> <a href='vscode-notebook-cell:/c%3A/Users/jjbocek/Documents/Data_Science/DS_projects/tutorial/tutorial/spiders/aazk_spider.ipynb#W5sZmlsZQ%3D%3D?line=3'>4</a>\u001b[0m     process\u001b[39m.\u001b[39;49mcrawl(AAZKjobsSpider)\n\u001b[0;32m      <a href='vscode-notebook-cell:/c%3A/Users/jjbocek/Documents/Data_Science/DS_projects/tutorial/tutorial/spiders/aazk_spider.ipynb#W5sZmlsZQ%3D%3D?line=4'>5</a>\u001b[0m     process\u001b[39m.\u001b[39mstart()\n",
      "File \u001b[1;32mc:\\Users\\jjbocek\\anaconda3\\lib\\site-packages\\scrapy\\crawler.py:205\u001b[0m, in \u001b[0;36mCrawlerRunner.crawl\u001b[1;34m(self, crawler_or_spidercls, *args, **kwargs)\u001b[0m\n\u001b[0;32m    201\u001b[0m \u001b[39mif\u001b[39;00m \u001b[39misinstance\u001b[39m(crawler_or_spidercls, Spider):\n\u001b[0;32m    202\u001b[0m     \u001b[39mraise\u001b[39;00m \u001b[39mValueError\u001b[39;00m(\n\u001b[0;32m    203\u001b[0m         \u001b[39m'\u001b[39m\u001b[39mThe crawler_or_spidercls argument cannot be a spider object, \u001b[39m\u001b[39m'\u001b[39m\n\u001b[0;32m    204\u001b[0m         \u001b[39m'\u001b[39m\u001b[39mit must be a spider class (or a Crawler object)\u001b[39m\u001b[39m'\u001b[39m)\n\u001b[1;32m--> 205\u001b[0m crawler \u001b[39m=\u001b[39m \u001b[39mself\u001b[39;49m\u001b[39m.\u001b[39;49mcreate_crawler(crawler_or_spidercls)\n\u001b[0;32m    206\u001b[0m \u001b[39mreturn\u001b[39;00m \u001b[39mself\u001b[39m\u001b[39m.\u001b[39m_crawl(crawler, \u001b[39m*\u001b[39margs, \u001b[39m*\u001b[39m\u001b[39m*\u001b[39mkwargs)\n",
      "File \u001b[1;32mc:\\Users\\jjbocek\\anaconda3\\lib\\site-packages\\scrapy\\crawler.py:238\u001b[0m, in \u001b[0;36mCrawlerRunner.create_crawler\u001b[1;34m(self, crawler_or_spidercls)\u001b[0m\n\u001b[0;32m    236\u001b[0m \u001b[39mif\u001b[39;00m \u001b[39misinstance\u001b[39m(crawler_or_spidercls, Crawler):\n\u001b[0;32m    237\u001b[0m     \u001b[39mreturn\u001b[39;00m crawler_or_spidercls\n\u001b[1;32m--> 238\u001b[0m \u001b[39mreturn\u001b[39;00m \u001b[39mself\u001b[39;49m\u001b[39m.\u001b[39;49m_create_crawler(crawler_or_spidercls)\n",
      "File \u001b[1;32mc:\\Users\\jjbocek\\anaconda3\\lib\\site-packages\\scrapy\\crawler.py:313\u001b[0m, in \u001b[0;36mCrawlerProcess._create_crawler\u001b[1;34m(self, spidercls)\u001b[0m\n\u001b[0;32m    311\u001b[0m \u001b[39mif\u001b[39;00m \u001b[39misinstance\u001b[39m(spidercls, \u001b[39mstr\u001b[39m):\n\u001b[0;32m    312\u001b[0m     spidercls \u001b[39m=\u001b[39m \u001b[39mself\u001b[39m\u001b[39m.\u001b[39mspider_loader\u001b[39m.\u001b[39mload(spidercls)\n\u001b[1;32m--> 313\u001b[0m \u001b[39mreturn\u001b[39;00m Crawler(spidercls, \u001b[39mself\u001b[39;49m\u001b[39m.\u001b[39;49msettings, init_reactor\u001b[39m=\u001b[39;49m\u001b[39mTrue\u001b[39;49;00m)\n",
      "File \u001b[1;32mc:\\Users\\jjbocek\\anaconda3\\lib\\site-packages\\scrapy\\crawler.py:82\u001b[0m, in \u001b[0;36mCrawler.__init__\u001b[1;34m(self, spidercls, settings, init_reactor)\u001b[0m\n\u001b[0;32m     80\u001b[0m     \u001b[39melse\u001b[39;00m:\n\u001b[0;32m     81\u001b[0m         \u001b[39mfrom\u001b[39;00m \u001b[39mtwisted\u001b[39;00m\u001b[39m.\u001b[39;00m\u001b[39minternet\u001b[39;00m \u001b[39mimport\u001b[39;00m default\n\u001b[1;32m---> 82\u001b[0m         default\u001b[39m.\u001b[39;49minstall()\n\u001b[0;32m     83\u001b[0m     log_reactor_info()\n\u001b[0;32m     84\u001b[0m \u001b[39mif\u001b[39;00m reactor_class:\n",
      "File \u001b[1;32mc:\\Users\\jjbocek\\anaconda3\\lib\\site-packages\\twisted\\internet\\selectreactor.py:194\u001b[0m, in \u001b[0;36minstall\u001b[1;34m()\u001b[0m\n\u001b[0;32m    191\u001b[0m reactor \u001b[39m=\u001b[39m SelectReactor()\n\u001b[0;32m    192\u001b[0m \u001b[39mfrom\u001b[39;00m \u001b[39mtwisted\u001b[39;00m\u001b[39m.\u001b[39;00m\u001b[39minternet\u001b[39;00m\u001b[39m.\u001b[39;00m\u001b[39mmain\u001b[39;00m \u001b[39mimport\u001b[39;00m installReactor\n\u001b[1;32m--> 194\u001b[0m installReactor(reactor)\n",
      "File \u001b[1;32mc:\\Users\\jjbocek\\anaconda3\\lib\\site-packages\\twisted\\internet\\main.py:32\u001b[0m, in \u001b[0;36minstallReactor\u001b[1;34m(reactor)\u001b[0m\n\u001b[0;32m     29\u001b[0m \u001b[39mimport\u001b[39;00m \u001b[39mtwisted\u001b[39;00m\u001b[39m.\u001b[39;00m\u001b[39minternet\u001b[39;00m\n\u001b[0;32m     31\u001b[0m \u001b[39mif\u001b[39;00m \u001b[39m\"\u001b[39m\u001b[39mtwisted.internet.reactor\u001b[39m\u001b[39m\"\u001b[39m \u001b[39min\u001b[39;00m sys\u001b[39m.\u001b[39mmodules:\n\u001b[1;32m---> 32\u001b[0m     \u001b[39mraise\u001b[39;00m error\u001b[39m.\u001b[39mReactorAlreadyInstalledError(\u001b[39m\"\u001b[39m\u001b[39mreactor already installed\u001b[39m\u001b[39m\"\u001b[39m)\n\u001b[0;32m     33\u001b[0m twisted\u001b[39m.\u001b[39minternet\u001b[39m.\u001b[39mreactor \u001b[39m=\u001b[39m reactor\n\u001b[0;32m     34\u001b[0m sys\u001b[39m.\u001b[39mmodules[\u001b[39m\"\u001b[39m\u001b[39mtwisted.internet.reactor\u001b[39m\u001b[39m\"\u001b[39m] \u001b[39m=\u001b[39m reactor\n",
      "\u001b[1;31mReactorAlreadyInstalledError\u001b[0m: reactor already installed"
     ]
    }
   ],
   "source": [
    "process = CrawlerProcess()\n",
    "\n",
    "if __name__ == '__main__':\n",
    "    process.crawl(AAZKjobsSpider)\n",
    "    process.start() # the script will block here until the crawling is finished"
   ]
  },
  {
   "cell_type": "code",
   "execution_count": 36,
   "metadata": {},
   "outputs": [
    {
     "ename": "JSONDecodeError",
     "evalue": "Expecting value: line 1 column 1 (char 0)",
     "output_type": "error",
     "traceback": [
      "\u001b[1;31m---------------------------------------------------------------------------\u001b[0m",
      "\u001b[1;31mJSONDecodeError\u001b[0m                           Traceback (most recent call last)",
      "\u001b[1;32mc:\\Users\\jjbocek\\Documents\\Data_Science\\DS_projects\\tutorial\\tutorial\\spiders\\aazk_spider.ipynb Cell 7\u001b[0m in \u001b[0;36m<cell line: 4>\u001b[1;34m()\u001b[0m\n\u001b[0;32m      <a href='vscode-notebook-cell:/c%3A/Users/jjbocek/Documents/Data_Science/DS_projects/tutorial/tutorial/spiders/aazk_spider.ipynb#W6sZmlsZQ%3D%3D?line=0'>1</a>\u001b[0m configure_logging({\u001b[39m'\u001b[39m\u001b[39mLOG_FORMAT\u001b[39m\u001b[39m'\u001b[39m: \u001b[39m'\u001b[39m\u001b[39m%(levelname)s\u001b[39;00m\u001b[39m: \u001b[39m\u001b[39m%(message)s\u001b[39;00m\u001b[39m'\u001b[39m})\n\u001b[0;32m      <a href='vscode-notebook-cell:/c%3A/Users/jjbocek/Documents/Data_Science/DS_projects/tutorial/tutorial/spiders/aazk_spider.ipynb#W6sZmlsZQ%3D%3D?line=1'>2</a>\u001b[0m runner \u001b[39m=\u001b[39m CrawlerRunner()\n\u001b[1;32m----> <a href='vscode-notebook-cell:/c%3A/Users/jjbocek/Documents/Data_Science/DS_projects/tutorial/tutorial/spiders/aazk_spider.ipynb#W6sZmlsZQ%3D%3D?line=3'>4</a>\u001b[0m d \u001b[39m=\u001b[39m runner\u001b[39m.\u001b[39;49mcrawl(AAZKjobsSpider)\n\u001b[0;32m      <a href='vscode-notebook-cell:/c%3A/Users/jjbocek/Documents/Data_Science/DS_projects/tutorial/tutorial/spiders/aazk_spider.ipynb#W6sZmlsZQ%3D%3D?line=4'>5</a>\u001b[0m d\u001b[39m.\u001b[39maddBoth(\u001b[39mlambda\u001b[39;00m _: reactor\u001b[39m.\u001b[39mstop())\n",
      "File \u001b[1;32mc:\\Users\\jjbocek\\anaconda3\\lib\\site-packages\\scrapy\\crawler.py:205\u001b[0m, in \u001b[0;36mCrawlerRunner.crawl\u001b[1;34m(self, crawler_or_spidercls, *args, **kwargs)\u001b[0m\n\u001b[0;32m    201\u001b[0m \u001b[39mif\u001b[39;00m \u001b[39misinstance\u001b[39m(crawler_or_spidercls, Spider):\n\u001b[0;32m    202\u001b[0m     \u001b[39mraise\u001b[39;00m \u001b[39mValueError\u001b[39;00m(\n\u001b[0;32m    203\u001b[0m         \u001b[39m'\u001b[39m\u001b[39mThe crawler_or_spidercls argument cannot be a spider object, \u001b[39m\u001b[39m'\u001b[39m\n\u001b[0;32m    204\u001b[0m         \u001b[39m'\u001b[39m\u001b[39mit must be a spider class (or a Crawler object)\u001b[39m\u001b[39m'\u001b[39m)\n\u001b[1;32m--> 205\u001b[0m crawler \u001b[39m=\u001b[39m \u001b[39mself\u001b[39;49m\u001b[39m.\u001b[39;49mcreate_crawler(crawler_or_spidercls)\n\u001b[0;32m    206\u001b[0m \u001b[39mreturn\u001b[39;00m \u001b[39mself\u001b[39m\u001b[39m.\u001b[39m_crawl(crawler, \u001b[39m*\u001b[39margs, \u001b[39m*\u001b[39m\u001b[39m*\u001b[39mkwargs)\n",
      "File \u001b[1;32mc:\\Users\\jjbocek\\anaconda3\\lib\\site-packages\\scrapy\\crawler.py:238\u001b[0m, in \u001b[0;36mCrawlerRunner.create_crawler\u001b[1;34m(self, crawler_or_spidercls)\u001b[0m\n\u001b[0;32m    236\u001b[0m \u001b[39mif\u001b[39;00m \u001b[39misinstance\u001b[39m(crawler_or_spidercls, Crawler):\n\u001b[0;32m    237\u001b[0m     \u001b[39mreturn\u001b[39;00m crawler_or_spidercls\n\u001b[1;32m--> 238\u001b[0m \u001b[39mreturn\u001b[39;00m \u001b[39mself\u001b[39;49m\u001b[39m.\u001b[39;49m_create_crawler(crawler_or_spidercls)\n",
      "File \u001b[1;32mc:\\Users\\jjbocek\\anaconda3\\lib\\site-packages\\scrapy\\crawler.py:243\u001b[0m, in \u001b[0;36mCrawlerRunner._create_crawler\u001b[1;34m(self, spidercls)\u001b[0m\n\u001b[0;32m    241\u001b[0m \u001b[39mif\u001b[39;00m \u001b[39misinstance\u001b[39m(spidercls, \u001b[39mstr\u001b[39m):\n\u001b[0;32m    242\u001b[0m     spidercls \u001b[39m=\u001b[39m \u001b[39mself\u001b[39m\u001b[39m.\u001b[39mspider_loader\u001b[39m.\u001b[39mload(spidercls)\n\u001b[1;32m--> 243\u001b[0m \u001b[39mreturn\u001b[39;00m Crawler(spidercls, \u001b[39mself\u001b[39;49m\u001b[39m.\u001b[39;49msettings)\n",
      "File \u001b[1;32mc:\\Users\\jjbocek\\anaconda3\\lib\\site-packages\\scrapy\\crawler.py:51\u001b[0m, in \u001b[0;36mCrawler.__init__\u001b[1;34m(self, spidercls, settings, init_reactor)\u001b[0m\n\u001b[0;32m     49\u001b[0m \u001b[39mself\u001b[39m\u001b[39m.\u001b[39mspidercls \u001b[39m=\u001b[39m spidercls\n\u001b[0;32m     50\u001b[0m \u001b[39mself\u001b[39m\u001b[39m.\u001b[39msettings \u001b[39m=\u001b[39m settings\u001b[39m.\u001b[39mcopy()\n\u001b[1;32m---> 51\u001b[0m \u001b[39mself\u001b[39;49m\u001b[39m.\u001b[39;49mspidercls\u001b[39m.\u001b[39;49mupdate_settings(\u001b[39mself\u001b[39;49m\u001b[39m.\u001b[39;49msettings)\n\u001b[0;32m     53\u001b[0m \u001b[39mself\u001b[39m\u001b[39m.\u001b[39msignals \u001b[39m=\u001b[39m SignalManager(\u001b[39mself\u001b[39m)\n\u001b[0;32m     54\u001b[0m \u001b[39mself\u001b[39m\u001b[39m.\u001b[39mstats \u001b[39m=\u001b[39m load_object(\u001b[39mself\u001b[39m\u001b[39m.\u001b[39msettings[\u001b[39m'\u001b[39m\u001b[39mSTATS_CLASS\u001b[39m\u001b[39m'\u001b[39m])(\u001b[39mself\u001b[39m)\n",
      "File \u001b[1;32mc:\\Users\\jjbocek\\anaconda3\\lib\\site-packages\\scrapy\\spiders\\__init__.py:74\u001b[0m, in \u001b[0;36mSpider.update_settings\u001b[1;34m(cls, settings)\u001b[0m\n\u001b[0;32m     72\u001b[0m \u001b[39m@classmethod\u001b[39m\n\u001b[0;32m     73\u001b[0m \u001b[39mdef\u001b[39;00m \u001b[39mupdate_settings\u001b[39m(\u001b[39mcls\u001b[39m, settings):\n\u001b[1;32m---> 74\u001b[0m     settings\u001b[39m.\u001b[39;49msetdict(\u001b[39mcls\u001b[39;49m\u001b[39m.\u001b[39;49mcustom_settings \u001b[39mor\u001b[39;49;00m {}, priority\u001b[39m=\u001b[39;49m\u001b[39m'\u001b[39;49m\u001b[39mspider\u001b[39;49m\u001b[39m'\u001b[39;49m)\n",
      "File \u001b[1;32mc:\\Users\\jjbocek\\anaconda3\\lib\\site-packages\\scrapy\\settings\\__init__.py:268\u001b[0m, in \u001b[0;36mBaseSettings.setdict\u001b[1;34m(self, values, priority)\u001b[0m\n\u001b[0;32m    267\u001b[0m \u001b[39mdef\u001b[39;00m \u001b[39msetdict\u001b[39m(\u001b[39mself\u001b[39m, values, priority\u001b[39m=\u001b[39m\u001b[39m'\u001b[39m\u001b[39mproject\u001b[39m\u001b[39m'\u001b[39m):\n\u001b[1;32m--> 268\u001b[0m     \u001b[39mself\u001b[39;49m\u001b[39m.\u001b[39;49mupdate(values, priority)\n",
      "File \u001b[1;32mc:\\Users\\jjbocek\\anaconda3\\lib\\site-packages\\scrapy\\settings\\__init__.py:323\u001b[0m, in \u001b[0;36mBaseSettings.update\u001b[1;34m(self, values, priority)\u001b[0m\n\u001b[0;32m    321\u001b[0m \u001b[39melse\u001b[39;00m:\n\u001b[0;32m    322\u001b[0m     \u001b[39mfor\u001b[39;00m name, value \u001b[39min\u001b[39;00m values\u001b[39m.\u001b[39mitems():\n\u001b[1;32m--> 323\u001b[0m         \u001b[39mself\u001b[39;49m\u001b[39m.\u001b[39;49mset(name, value, priority)\n",
      "File \u001b[1;32mc:\\Users\\jjbocek\\anaconda3\\lib\\site-packages\\scrapy\\settings\\__init__.py:265\u001b[0m, in \u001b[0;36mBaseSettings.set\u001b[1;34m(self, name, value, priority)\u001b[0m\n\u001b[0;32m    263\u001b[0m         \u001b[39mself\u001b[39m\u001b[39m.\u001b[39mattributes[name] \u001b[39m=\u001b[39m SettingsAttribute(value, priority)\n\u001b[0;32m    264\u001b[0m \u001b[39melse\u001b[39;00m:\n\u001b[1;32m--> 265\u001b[0m     \u001b[39mself\u001b[39;49m\u001b[39m.\u001b[39;49mattributes[name]\u001b[39m.\u001b[39;49mset(value, priority)\n",
      "File \u001b[1;32mc:\\Users\\jjbocek\\anaconda3\\lib\\site-packages\\scrapy\\settings\\__init__.py:50\u001b[0m, in \u001b[0;36mSettingsAttribute.set\u001b[1;34m(self, value, priority)\u001b[0m\n\u001b[0;32m     48\u001b[0m \u001b[39mif\u001b[39;00m priority \u001b[39m>\u001b[39m\u001b[39m=\u001b[39m \u001b[39mself\u001b[39m\u001b[39m.\u001b[39mpriority:\n\u001b[0;32m     49\u001b[0m     \u001b[39mif\u001b[39;00m \u001b[39misinstance\u001b[39m(\u001b[39mself\u001b[39m\u001b[39m.\u001b[39mvalue, BaseSettings):\n\u001b[1;32m---> 50\u001b[0m         value \u001b[39m=\u001b[39m BaseSettings(value, priority\u001b[39m=\u001b[39;49mpriority)\n\u001b[0;32m     51\u001b[0m     \u001b[39mself\u001b[39m\u001b[39m.\u001b[39mvalue \u001b[39m=\u001b[39m value\n\u001b[0;32m     52\u001b[0m     \u001b[39mself\u001b[39m\u001b[39m.\u001b[39mpriority \u001b[39m=\u001b[39m priority\n",
      "File \u001b[1;32mc:\\Users\\jjbocek\\anaconda3\\lib\\site-packages\\scrapy\\settings\\__init__.py:86\u001b[0m, in \u001b[0;36mBaseSettings.__init__\u001b[1;34m(self, values, priority)\u001b[0m\n\u001b[0;32m     84\u001b[0m \u001b[39mself\u001b[39m\u001b[39m.\u001b[39mattributes \u001b[39m=\u001b[39m {}\n\u001b[0;32m     85\u001b[0m \u001b[39mif\u001b[39;00m values:\n\u001b[1;32m---> 86\u001b[0m     \u001b[39mself\u001b[39;49m\u001b[39m.\u001b[39;49mupdate(values, priority)\n",
      "File \u001b[1;32mc:\\Users\\jjbocek\\anaconda3\\lib\\site-packages\\scrapy\\settings\\__init__.py:316\u001b[0m, in \u001b[0;36mBaseSettings.update\u001b[1;34m(self, values, priority)\u001b[0m\n\u001b[0;32m    314\u001b[0m \u001b[39mself\u001b[39m\u001b[39m.\u001b[39m_assert_mutability()\n\u001b[0;32m    315\u001b[0m \u001b[39mif\u001b[39;00m \u001b[39misinstance\u001b[39m(values, \u001b[39mstr\u001b[39m):\n\u001b[1;32m--> 316\u001b[0m     values \u001b[39m=\u001b[39m json\u001b[39m.\u001b[39;49mloads(values)\n\u001b[0;32m    317\u001b[0m \u001b[39mif\u001b[39;00m values \u001b[39mis\u001b[39;00m \u001b[39mnot\u001b[39;00m \u001b[39mNone\u001b[39;00m:\n\u001b[0;32m    318\u001b[0m     \u001b[39mif\u001b[39;00m \u001b[39misinstance\u001b[39m(values, BaseSettings):\n",
      "File \u001b[1;32mc:\\Users\\jjbocek\\anaconda3\\lib\\json\\__init__.py:346\u001b[0m, in \u001b[0;36mloads\u001b[1;34m(s, cls, object_hook, parse_float, parse_int, parse_constant, object_pairs_hook, **kw)\u001b[0m\n\u001b[0;32m    341\u001b[0m     s \u001b[39m=\u001b[39m s\u001b[39m.\u001b[39mdecode(detect_encoding(s), \u001b[39m'\u001b[39m\u001b[39msurrogatepass\u001b[39m\u001b[39m'\u001b[39m)\n\u001b[0;32m    343\u001b[0m \u001b[39mif\u001b[39;00m (\u001b[39mcls\u001b[39m \u001b[39mis\u001b[39;00m \u001b[39mNone\u001b[39;00m \u001b[39mand\u001b[39;00m object_hook \u001b[39mis\u001b[39;00m \u001b[39mNone\u001b[39;00m \u001b[39mand\u001b[39;00m\n\u001b[0;32m    344\u001b[0m         parse_int \u001b[39mis\u001b[39;00m \u001b[39mNone\u001b[39;00m \u001b[39mand\u001b[39;00m parse_float \u001b[39mis\u001b[39;00m \u001b[39mNone\u001b[39;00m \u001b[39mand\u001b[39;00m\n\u001b[0;32m    345\u001b[0m         parse_constant \u001b[39mis\u001b[39;00m \u001b[39mNone\u001b[39;00m \u001b[39mand\u001b[39;00m object_pairs_hook \u001b[39mis\u001b[39;00m \u001b[39mNone\u001b[39;00m \u001b[39mand\u001b[39;00m \u001b[39mnot\u001b[39;00m kw):\n\u001b[1;32m--> 346\u001b[0m     \u001b[39mreturn\u001b[39;00m _default_decoder\u001b[39m.\u001b[39;49mdecode(s)\n\u001b[0;32m    347\u001b[0m \u001b[39mif\u001b[39;00m \u001b[39mcls\u001b[39m \u001b[39mis\u001b[39;00m \u001b[39mNone\u001b[39;00m:\n\u001b[0;32m    348\u001b[0m     \u001b[39mcls\u001b[39m \u001b[39m=\u001b[39m JSONDecoder\n",
      "File \u001b[1;32mc:\\Users\\jjbocek\\anaconda3\\lib\\json\\decoder.py:337\u001b[0m, in \u001b[0;36mJSONDecoder.decode\u001b[1;34m(self, s, _w)\u001b[0m\n\u001b[0;32m    332\u001b[0m \u001b[39mdef\u001b[39;00m \u001b[39mdecode\u001b[39m(\u001b[39mself\u001b[39m, s, _w\u001b[39m=\u001b[39mWHITESPACE\u001b[39m.\u001b[39mmatch):\n\u001b[0;32m    333\u001b[0m     \u001b[39m\"\"\"Return the Python representation of ``s`` (a ``str`` instance\u001b[39;00m\n\u001b[0;32m    334\u001b[0m \u001b[39m    containing a JSON document).\u001b[39;00m\n\u001b[0;32m    335\u001b[0m \n\u001b[0;32m    336\u001b[0m \u001b[39m    \"\"\"\u001b[39;00m\n\u001b[1;32m--> 337\u001b[0m     obj, end \u001b[39m=\u001b[39m \u001b[39mself\u001b[39;49m\u001b[39m.\u001b[39;49mraw_decode(s, idx\u001b[39m=\u001b[39;49m_w(s, \u001b[39m0\u001b[39;49m)\u001b[39m.\u001b[39;49mend())\n\u001b[0;32m    338\u001b[0m     end \u001b[39m=\u001b[39m _w(s, end)\u001b[39m.\u001b[39mend()\n\u001b[0;32m    339\u001b[0m     \u001b[39mif\u001b[39;00m end \u001b[39m!=\u001b[39m \u001b[39mlen\u001b[39m(s):\n",
      "File \u001b[1;32mc:\\Users\\jjbocek\\anaconda3\\lib\\json\\decoder.py:355\u001b[0m, in \u001b[0;36mJSONDecoder.raw_decode\u001b[1;34m(self, s, idx)\u001b[0m\n\u001b[0;32m    353\u001b[0m     obj, end \u001b[39m=\u001b[39m \u001b[39mself\u001b[39m\u001b[39m.\u001b[39mscan_once(s, idx)\n\u001b[0;32m    354\u001b[0m \u001b[39mexcept\u001b[39;00m \u001b[39mStopIteration\u001b[39;00m \u001b[39mas\u001b[39;00m err:\n\u001b[1;32m--> 355\u001b[0m     \u001b[39mraise\u001b[39;00m JSONDecodeError(\u001b[39m\"\u001b[39m\u001b[39mExpecting value\u001b[39m\u001b[39m\"\u001b[39m, s, err\u001b[39m.\u001b[39mvalue) \u001b[39mfrom\u001b[39;00m \u001b[39mNone\u001b[39m\n\u001b[0;32m    356\u001b[0m \u001b[39mreturn\u001b[39;00m obj, end\n",
      "\u001b[1;31mJSONDecodeError\u001b[0m: Expecting value: line 1 column 1 (char 0)"
     ]
    }
   ],
   "source": [
    "configure_logging({'LOG_FORMAT': '%(levelname)s: %(message)s'})\n",
    "runner = CrawlerRunner()\n",
    "\n",
    "d = runner.crawl(AAZKjobsSpider)\n",
    "d.addBoth(lambda _: reactor.stop())\n",
    "#reactor.run() # the script will block here until the crawling is finished"
   ]
  },
  {
   "cell_type": "code",
   "execution_count": 32,
   "metadata": {},
   "outputs": [
    {
     "ename": "ValueError",
     "evalue": "Expected object or value",
     "output_type": "error",
     "traceback": [
      "\u001b[1;31m---------------------------------------------------------------------------\u001b[0m",
      "\u001b[1;31mValueError\u001b[0m                                Traceback (most recent call last)",
      "\u001b[1;32mc:\\Users\\jjbocek\\Documents\\Data_Science\\DS_projects\\tutorial\\tutorial\\spiders\\aazk_spider.ipynb Cell 9\u001b[0m in \u001b[0;36m<cell line: 2>\u001b[1;34m()\u001b[0m\n\u001b[0;32m      <a href='vscode-notebook-cell:/c%3A/Users/jjbocek/Documents/Data_Science/DS_projects/tutorial/tutorial/spiders/aazk_spider.ipynb#X11sZmlsZQ%3D%3D?line=0'>1</a>\u001b[0m \u001b[39mimport\u001b[39;00m \u001b[39mpandas\u001b[39;00m \u001b[39mas\u001b[39;00m \u001b[39mpd\u001b[39;00m\n\u001b[1;32m----> <a href='vscode-notebook-cell:/c%3A/Users/jjbocek/Documents/Data_Science/DS_projects/tutorial/tutorial/spiders/aazk_spider.ipynb#X11sZmlsZQ%3D%3D?line=1'>2</a>\u001b[0m dfjson \u001b[39m=\u001b[39m pd\u001b[39m.\u001b[39;49mread_json(\u001b[39m'\u001b[39;49m\u001b[39mAAZKjobs_result.json\u001b[39;49m\u001b[39m'\u001b[39;49m)\n\u001b[0;32m      <a href='vscode-notebook-cell:/c%3A/Users/jjbocek/Documents/Data_Science/DS_projects/tutorial/tutorial/spiders/aazk_spider.ipynb#X11sZmlsZQ%3D%3D?line=2'>3</a>\u001b[0m dfjson\n",
      "File \u001b[1;32mc:\\Users\\jjbocek\\anaconda3\\lib\\site-packages\\pandas\\util\\_decorators.py:207\u001b[0m, in \u001b[0;36mdeprecate_kwarg.<locals>._deprecate_kwarg.<locals>.wrapper\u001b[1;34m(*args, **kwargs)\u001b[0m\n\u001b[0;32m    205\u001b[0m     \u001b[39melse\u001b[39;00m:\n\u001b[0;32m    206\u001b[0m         kwargs[new_arg_name] \u001b[39m=\u001b[39m new_arg_value\n\u001b[1;32m--> 207\u001b[0m \u001b[39mreturn\u001b[39;00m func(\u001b[39m*\u001b[39margs, \u001b[39m*\u001b[39m\u001b[39m*\u001b[39mkwargs)\n",
      "File \u001b[1;32mc:\\Users\\jjbocek\\anaconda3\\lib\\site-packages\\pandas\\util\\_decorators.py:311\u001b[0m, in \u001b[0;36mdeprecate_nonkeyword_arguments.<locals>.decorate.<locals>.wrapper\u001b[1;34m(*args, **kwargs)\u001b[0m\n\u001b[0;32m    305\u001b[0m \u001b[39mif\u001b[39;00m \u001b[39mlen\u001b[39m(args) \u001b[39m>\u001b[39m num_allow_args:\n\u001b[0;32m    306\u001b[0m     warnings\u001b[39m.\u001b[39mwarn(\n\u001b[0;32m    307\u001b[0m         msg\u001b[39m.\u001b[39mformat(arguments\u001b[39m=\u001b[39marguments),\n\u001b[0;32m    308\u001b[0m         \u001b[39mFutureWarning\u001b[39;00m,\n\u001b[0;32m    309\u001b[0m         stacklevel\u001b[39m=\u001b[39mstacklevel,\n\u001b[0;32m    310\u001b[0m     )\n\u001b[1;32m--> 311\u001b[0m \u001b[39mreturn\u001b[39;00m func(\u001b[39m*\u001b[39margs, \u001b[39m*\u001b[39m\u001b[39m*\u001b[39mkwargs)\n",
      "File \u001b[1;32mc:\\Users\\jjbocek\\anaconda3\\lib\\site-packages\\pandas\\io\\json\\_json.py:612\u001b[0m, in \u001b[0;36mread_json\u001b[1;34m(path_or_buf, orient, typ, dtype, convert_axes, convert_dates, keep_default_dates, numpy, precise_float, date_unit, encoding, encoding_errors, lines, chunksize, compression, nrows, storage_options)\u001b[0m\n\u001b[0;32m    609\u001b[0m     \u001b[39mreturn\u001b[39;00m json_reader\n\u001b[0;32m    611\u001b[0m \u001b[39mwith\u001b[39;00m json_reader:\n\u001b[1;32m--> 612\u001b[0m     \u001b[39mreturn\u001b[39;00m json_reader\u001b[39m.\u001b[39;49mread()\n",
      "File \u001b[1;32mc:\\Users\\jjbocek\\anaconda3\\lib\\site-packages\\pandas\\io\\json\\_json.py:746\u001b[0m, in \u001b[0;36mJsonReader.read\u001b[1;34m(self)\u001b[0m\n\u001b[0;32m    744\u001b[0m         obj \u001b[39m=\u001b[39m \u001b[39mself\u001b[39m\u001b[39m.\u001b[39m_get_object_parser(\u001b[39mself\u001b[39m\u001b[39m.\u001b[39m_combine_lines(data_lines))\n\u001b[0;32m    745\u001b[0m \u001b[39melse\u001b[39;00m:\n\u001b[1;32m--> 746\u001b[0m     obj \u001b[39m=\u001b[39m \u001b[39mself\u001b[39;49m\u001b[39m.\u001b[39;49m_get_object_parser(\u001b[39mself\u001b[39;49m\u001b[39m.\u001b[39;49mdata)\n\u001b[0;32m    747\u001b[0m \u001b[39mself\u001b[39m\u001b[39m.\u001b[39mclose()\n\u001b[0;32m    748\u001b[0m \u001b[39mreturn\u001b[39;00m obj\n",
      "File \u001b[1;32mc:\\Users\\jjbocek\\anaconda3\\lib\\site-packages\\pandas\\io\\json\\_json.py:768\u001b[0m, in \u001b[0;36mJsonReader._get_object_parser\u001b[1;34m(self, json)\u001b[0m\n\u001b[0;32m    766\u001b[0m obj \u001b[39m=\u001b[39m \u001b[39mNone\u001b[39;00m\n\u001b[0;32m    767\u001b[0m \u001b[39mif\u001b[39;00m typ \u001b[39m==\u001b[39m \u001b[39m\"\u001b[39m\u001b[39mframe\u001b[39m\u001b[39m\"\u001b[39m:\n\u001b[1;32m--> 768\u001b[0m     obj \u001b[39m=\u001b[39m FrameParser(json, \u001b[39m*\u001b[39;49m\u001b[39m*\u001b[39;49mkwargs)\u001b[39m.\u001b[39;49mparse()\n\u001b[0;32m    770\u001b[0m \u001b[39mif\u001b[39;00m typ \u001b[39m==\u001b[39m \u001b[39m\"\u001b[39m\u001b[39mseries\u001b[39m\u001b[39m\"\u001b[39m \u001b[39mor\u001b[39;00m obj \u001b[39mis\u001b[39;00m \u001b[39mNone\u001b[39;00m:\n\u001b[0;32m    771\u001b[0m     \u001b[39mif\u001b[39;00m \u001b[39mnot\u001b[39;00m \u001b[39misinstance\u001b[39m(dtype, \u001b[39mbool\u001b[39m):\n",
      "File \u001b[1;32mc:\\Users\\jjbocek\\anaconda3\\lib\\site-packages\\pandas\\io\\json\\_json.py:880\u001b[0m, in \u001b[0;36mParser.parse\u001b[1;34m(self)\u001b[0m\n\u001b[0;32m    878\u001b[0m     \u001b[39mself\u001b[39m\u001b[39m.\u001b[39m_parse_numpy()\n\u001b[0;32m    879\u001b[0m \u001b[39melse\u001b[39;00m:\n\u001b[1;32m--> 880\u001b[0m     \u001b[39mself\u001b[39;49m\u001b[39m.\u001b[39;49m_parse_no_numpy()\n\u001b[0;32m    882\u001b[0m \u001b[39mif\u001b[39;00m \u001b[39mself\u001b[39m\u001b[39m.\u001b[39mobj \u001b[39mis\u001b[39;00m \u001b[39mNone\u001b[39;00m:\n\u001b[0;32m    883\u001b[0m     \u001b[39mreturn\u001b[39;00m \u001b[39mNone\u001b[39;00m\n",
      "File \u001b[1;32mc:\\Users\\jjbocek\\anaconda3\\lib\\site-packages\\pandas\\io\\json\\_json.py:1133\u001b[0m, in \u001b[0;36mFrameParser._parse_no_numpy\u001b[1;34m(self)\u001b[0m\n\u001b[0;32m   1129\u001b[0m orient \u001b[39m=\u001b[39m \u001b[39mself\u001b[39m\u001b[39m.\u001b[39morient\n\u001b[0;32m   1131\u001b[0m \u001b[39mif\u001b[39;00m orient \u001b[39m==\u001b[39m \u001b[39m\"\u001b[39m\u001b[39mcolumns\u001b[39m\u001b[39m\"\u001b[39m:\n\u001b[0;32m   1132\u001b[0m     \u001b[39mself\u001b[39m\u001b[39m.\u001b[39mobj \u001b[39m=\u001b[39m DataFrame(\n\u001b[1;32m-> 1133\u001b[0m         loads(json, precise_float\u001b[39m=\u001b[39;49m\u001b[39mself\u001b[39;49m\u001b[39m.\u001b[39;49mprecise_float), dtype\u001b[39m=\u001b[39m\u001b[39mNone\u001b[39;00m\n\u001b[0;32m   1134\u001b[0m     )\n\u001b[0;32m   1135\u001b[0m \u001b[39melif\u001b[39;00m orient \u001b[39m==\u001b[39m \u001b[39m\"\u001b[39m\u001b[39msplit\u001b[39m\u001b[39m\"\u001b[39m:\n\u001b[0;32m   1136\u001b[0m     decoded \u001b[39m=\u001b[39m {\n\u001b[0;32m   1137\u001b[0m         \u001b[39mstr\u001b[39m(k): v\n\u001b[0;32m   1138\u001b[0m         \u001b[39mfor\u001b[39;00m k, v \u001b[39min\u001b[39;00m loads(json, precise_float\u001b[39m=\u001b[39m\u001b[39mself\u001b[39m\u001b[39m.\u001b[39mprecise_float)\u001b[39m.\u001b[39mitems()\n\u001b[0;32m   1139\u001b[0m     }\n",
      "\u001b[1;31mValueError\u001b[0m: Expected object or value"
     ]
    }
   ],
   "source": [
    "import pandas as pd\n",
    "dfjson = pd.read_json('AAZKjobs_result.json')\n",
    "dfjson"
   ]
  }
 ],
 "metadata": {
  "kernelspec": {
   "display_name": "base",
   "language": "python",
   "name": "python3"
  },
  "language_info": {
   "codemirror_mode": {
    "name": "ipython",
    "version": 3
   },
   "file_extension": ".py",
   "mimetype": "text/x-python",
   "name": "python",
   "nbconvert_exporter": "python",
   "pygments_lexer": "ipython3",
   "version": "3.9.12"
  },
  "orig_nbformat": 4,
  "vscode": {
   "interpreter": {
    "hash": "6d8c354d3cf95362cb56a9fc61661589ba752411f03c7f5d3fd3d8348f563371"
   }
  }
 },
 "nbformat": 4,
 "nbformat_minor": 2
}
